{
 "cells": [
  {
   "cell_type": "code",
   "execution_count": 4,
   "metadata": {},
   "outputs": [
    {
     "name": "stdout",
     "output_type": "stream",
     "text": [
      "Twinkle twinkle little star,\n",
      "how I wonder what you are,\n",
      "up above the world so high,\n",
      "like a diamond in the sky!\n"
     ]
    }
   ],
   "source": [
    "# Write a function in python to read the content from \n",
    "# a text file \"poem.txt\" line by line and display the same on screen.\n",
    "\n",
    "f= open(\"poem.txt\",'r')\n",
    "print(f.read())\n",
    "f.close()"
   ]
  },
  {
   "cell_type": "code",
   "execution_count": 6,
   "metadata": {},
   "outputs": [
    {
     "data": {
      "text/plain": [
       "3"
      ]
     },
     "execution_count": 6,
     "metadata": {},
     "output_type": "execute_result"
    }
   ],
   "source": [
    "# Write a function in python to count the number of lines \n",
    "# from a text file \"story.txt\" which is not starting with an alphabet \"T\". \n",
    "\n",
    "# Example: If the file \"story.txt\" contains the following lines: A boy is playing there.\n",
    "# There is a playground.\n",
    "# An aeroplane is in the sky.\n",
    "# The sky is pink.\n",
    "# Alphabets and numbers are allowed in the password.\n",
    "# The function should display the output as 3\n",
    "\n",
    "def count_lines():\n",
    "    f = open(\"story.txt\" ,'r')\n",
    "    count=0\n",
    "    for line in f:\n",
    "        if line[0] != 'T':\n",
    "            count+=1\n",
    "    f.close()\n",
    "    return count\n",
    "\n",
    "count_lines()"
   ]
  },
  {
   "cell_type": "code",
   "execution_count": 11,
   "metadata": {},
   "outputs": [
    {
     "data": {
      "text/plain": [
       "27"
      ]
     },
     "execution_count": 11,
     "metadata": {},
     "output_type": "execute_result"
    }
   ],
   "source": [
    "# Write a function in Python to count and display the total number of words in a text file.\n",
    "\n",
    "def wordcount():\n",
    "    f = open(\"story.txt\" ,'r')\n",
    "    data = f.read()\n",
    "    words= data.split()\n",
    "    f.close()\n",
    "    return len(words)\n",
    "wordcount()"
   ]
  },
  {
   "cell_type": "code",
   "execution_count": 14,
   "metadata": {},
   "outputs": [
    {
     "data": {
      "text/plain": [
       "2"
      ]
     },
     "execution_count": 14,
     "metadata": {},
     "output_type": "execute_result"
    }
   ],
   "source": [
    "# Write a function in Python to read lines from a text file \"notes.txt\". \n",
    "# Your function should find and display the occurrence of the word \"the\".\n",
    "\n",
    "# For example: If the content of the file is:\n",
    "# \"India is the fastest-growing economy. India is looking for more investments around the globe. The whole world is looking at India as a great market. Most of the Indians can foresee the heights that India is capable of reaching.\"\n",
    "\n",
    "# The output should be 5.\n",
    "\n",
    "def read_lines():\n",
    "    f=open(\"notes.txt\",'r')\n",
    "    data = f.read()\n",
    "    count= data.count(\"the\")\n",
    "    return count\n",
    "    f.close()\n",
    "    \n",
    "read_lines()"
   ]
  },
  {
   "cell_type": "code",
   "execution_count": 33,
   "metadata": {},
   "outputs": [
    {
     "name": "stdout",
     "output_type": "stream",
     "text": [
      "A boy is is a An is in the The sky is and are in the "
     ]
    }
   ],
   "source": [
    "# Write a function display_words() in python to read lines from a text file \"story.txt\", \n",
    "# and display those words, which are less than 4 characters.\n",
    "\n",
    "def display_words():\n",
    "    f= open(\"story.txt\" ,'r')\n",
    "    data = f.read()\n",
    "#     print(data)\n",
    "    word= data.split()\n",
    "#     print(word)\n",
    "    for i in word:\n",
    "            if(len(i)<4):\n",
    "                print(i, end=\" \")\n",
    "    f.close()\n",
    "display_words()"
   ]
  },
  {
   "cell_type": "code",
   "execution_count": 28,
   "metadata": {},
   "outputs": [
    {
     "data": {
      "text/plain": [
       "(1, 0)"
      ]
     },
     "execution_count": 28,
     "metadata": {},
     "output_type": "execute_result"
    }
   ],
   "source": [
    "# Write a function in Python to count the words \"this\" and \"these\" present in a text file \"article.txt\". \n",
    "# [Note that the words \"this\" and \"these\" are complete words] \n",
    "def func():\n",
    "    f= open(\"article.txt\" ,'r')\n",
    "    data = f.read()\n",
    "    count1=0\n",
    "    count2=0\n",
    "    if 'this'in data:\n",
    "        count1+=1\n",
    "    elif 'these'in data:\n",
    "        count2+=1\n",
    "    f.close()\n",
    "    return count1,count2\n",
    "func()\n",
    "        "
   ]
  },
  {
   "cell_type": "code",
   "execution_count": 32,
   "metadata": {},
   "outputs": [
    {
     "data": {
      "text/plain": [
       "48"
      ]
     },
     "execution_count": 32,
     "metadata": {},
     "output_type": "execute_result"
    }
   ],
   "source": [
    "# Write a function in Python to count words in a text file those are ending with alphabet \"e\"\n",
    "\n",
    "def func():\n",
    "    f= open(\"article.txt\" ,'r')\n",
    "    data = f.read()\n",
    "    count1=0\n",
    "    \n",
    "    word=data.split()\n",
    "    for i in word:\n",
    "        if(i.endswith('e')):\n",
    "            count1+=1\n",
    "    f.close()\n",
    "    return count1\n",
    "func()\n"
   ]
  },
  {
   "cell_type": "code",
   "execution_count": 37,
   "metadata": {},
   "outputs": [
    {
     "data": {
      "text/plain": [
       "33"
      ]
     },
     "execution_count": 37,
     "metadata": {},
     "output_type": "execute_result"
    }
   ],
   "source": [
    "# Write a function in Python to count uppercase character in a text file.\n",
    "\n",
    "def count_letter():\n",
    "    f= open(\"article.txt\" ,'r')\n",
    "    data = f.read()\n",
    "    count=0\n",
    "    for letter in data:\n",
    "        if letter.isupper():\n",
    "            count+=1\n",
    "    return count\n",
    "    f.close()\n",
    "count_letter()\n",
    "        "
   ]
  },
  {
   "cell_type": "code",
   "execution_count": 39,
   "metadata": {},
   "outputs": [
    {
     "name": "stdout",
     "output_type": "stream",
     "text": [
      "T#H#E# #W#O#R#L#D# #I#S# #R#O#U#N#D#"
     ]
    }
   ],
   "source": [
    "# A text file named \"matter.txt\" contains some text, which needs to be displayed such that \n",
    "# every next character is separated by a symbol \"#\". \n",
    "# Write a function definition for hash_display() in Python that would display \n",
    "# the entire content of the file matter.txt in the desired format.\n",
    "\n",
    "# Example :\n",
    "# If the file matter.txt has the following content stored in it :\n",
    "# THE WORLD IS ROUND\n",
    "\n",
    "# The function hash_display() should display the following content :\n",
    "# T#H#E# #W#O#R#L#D# #I#S# #R#O#U#N#D#\n",
    "\n",
    "def hash_display():\n",
    "    f = open(\"matter.txt\",'r')\n",
    "    data= f.read()\n",
    "    for i in data:\n",
    "        print(i ,end=\"#\")\n",
    "    f.close()\n",
    "hash_display()\n",
    "    "
   ]
  },
  {
   "cell_type": "code",
   "execution_count": 44,
   "metadata": {},
   "outputs": [
    {
     "name": "stdout",
     "output_type": "stream",
     "text": [
      "WELL, THIS IS A WORD BY ITSELF. YOU COULD STRETCH THIS TO BE A SENTENCE"
     ]
    }
   ],
   "source": [
    "# Aditi has used a text editing software to type some text. After saving the article as WORDS.TXT, \n",
    "# she realised that she has wrongly typed alphabet J in place of alphabet I everywhere in the article.\n",
    "# Write a function definition for JTOI() in Python that would display the corrected version of entire content \n",
    "# of the file WORDS.TXT with all the alphabets \"J\" to be displayed as an alphabet \"I\" on screen.\n",
    "\n",
    "# Note: Assuming that WORD.TXT does not contain any J alphabet otherwise.\n",
    "\n",
    "# Example:\n",
    "# If Aditi has stored the following content in the file WORDS.TXT:\n",
    "# WELL, THJS JS A WORD BY JTSELF. YOU COULD STRETCH THJS TO BE A SENTENCE\n",
    "# The function JTOI() should display the following content:\n",
    "# WELL, THIS IS A WORD BY ITSELF. YOU COULD STRETCH THIS TO BE A SENTENCE\n",
    "\n",
    "def jtoi():\n",
    "    f= open(\"words.txt\",'r')\n",
    "    data = f.read()\n",
    "    \n",
    "    for i in data:\n",
    "#         i.replace('J','I')\n",
    "        print(i.replace('J','I') ,end=\"\")\n",
    "    f.close()\n",
    "    \n",
    "jtoi()\n"
   ]
  },
  {
   "cell_type": "code",
   "execution_count": 45,
   "metadata": {},
   "outputs": [
    {
     "name": "stdout",
     "output_type": "stream",
     "text": [
      "A or a: 13\n",
      "M or m: 1\n"
     ]
    }
   ],
   "source": [
    "# Write a function AMCount() in Python, which should read each character of a text file STORY.TXT, \n",
    "# should count and display the occurance of alphabets A and M (including small cases a and m too).\n",
    "# For Example:\n",
    "# If the file content is as follows:\n",
    "# Updated information\n",
    "# As simplified by official websites.\n",
    "# The EUCount() function should display the output as:\n",
    "# A or a:4\n",
    "# M or m :2\n",
    "\n",
    "def AMcount():\n",
    "    f= open(\"story.txt\",'r')\n",
    "    data = f.read()\n",
    "    count_m=0\n",
    "    count_a=0\n",
    "    \n",
    "    for i in data:\n",
    "        if i.lower()=='m':\n",
    "            count_m+=1\n",
    "        elif i.lower()=='a':\n",
    "            count_a+=1\n",
    "    f.close()\n",
    "    \n",
    "    print(\"A or a:\",count_a)\n",
    "    print(\"M or m:\",count_m)\n",
    "    \n",
    "AMcount()"
   ]
  },
  {
   "cell_type": "code",
   "execution_count": 10,
   "metadata": {},
   "outputs": [],
   "source": [
    "# A binary file \"Book.dat\" has structure [BookNo, Book_Name, Author, Price].\n",
    "# i. Write a user defined function createFile() to input data for a record and add to Book.dat.\n",
    "# ii. Write a function countRec(Author) in Python which accepts the Author name as parameter \n",
    "# and count and return number of books by the given Author are stored in the binary file \"Book.dat\"\n",
    "\n",
    "def createFile(B_no, B_name, B_Aut, B_Price, file):\n",
    "    file.write(B_no.encode())\n",
    "    file.write(B_name.encode())\n",
    "    file.write(B_Aut.encode())\n",
    "    file.write(B_Price.encode())\n",
    "          "
   ]
  },
  {
   "cell_type": "code",
   "execution_count": 11,
   "metadata": {},
   "outputs": [
    {
     "name": "stdout",
     "output_type": "stream",
     "text": [
      "Enter the book No1\n",
      "Enter the book Nameabc\n",
      "Enter the Book Author name: abc\n",
      "Enter the book price: 200\n",
      "Enter the book No2\n",
      "Enter the book Namexyz\n",
      "Enter the Book Author name: xyz\n",
      "Enter the book price: 500\n",
      "1\n"
     ]
    }
   ],
   "source": [
    "f = open('Book.dat', 'w+b')\n",
    "for i in ['BookNo\\t', 'Book_Name\\t', 'Author\\t', 'Price\\n']:\n",
    "    f.write(i.encode())\n",
    "\n",
    "for i in range(2):\n",
    "    B_No = input('Enter the book No') + '\\t'\n",
    "    B_Name = input('Enter the book Name') + '\\t'\n",
    "    B_Aut = input('Enter the Book Author name: ') + '\\t'\n",
    "    B_price = input('Enter the book price: ') + '\\n'\n",
    "    createFile(B_No,B_Name,B_Aut,B_price,f)\n",
    "f.seek(0)    \n",
    "content = f.readlines()    \n",
    "auth_count = 0\n",
    "auth_name = 'abc'\n",
    "for i in range(1, len(content)):\n",
    "    if content[i].decode().split('\\t')[2] == auth_name:\n",
    "        auth_count += 1\n",
    "print(auth_count)\n",
    "f.close()"
   ]
  },
  {
   "cell_type": "code",
   "execution_count": 9,
   "metadata": {},
   "outputs": [
    {
     "name": "stdout",
     "output_type": "stream",
     "text": [
      "enter admission number:100\n",
      "Enter student's name:abc\n",
      "Enter Percentage:96\n",
      "[100, 'abc', 78]\n",
      "[100, 'abc', 78]\n",
      "[100, 'abc', 96]\n",
      "No of students having more than 75% are 3\n"
     ]
    }
   ],
   "source": [
    "# A binary file \"STUDENT.DAT\" has structure (admission_number, Name, Percentage). \n",
    "# Write a function count_rec() in Python that would read contents of the file \"STUDENT.DAT\" \n",
    "# and display the details of those students whose percentage is above 75. \n",
    "# Also display number of students scoring above 75\n",
    "\n",
    "import pickle\n",
    "\n",
    "def stud_data():\n",
    "    file = open(\"STUDENT.dat\",\"ab\")\n",
    "    ad_no = int(input(\"enter admission number:\"))\n",
    "    name = input(\"Enter student's name:\")\n",
    "    per= int(input(\"Enter Percentage:\"))\n",
    "    record = [ad_no,name,per]\n",
    "    pickle.dump(record,file)\n",
    "    file.close()\n",
    "    \n",
    "def count_rec():\n",
    "    file = open(\"STUDENT.DAT\",\"rb\")\n",
    "    count = 0\n",
    "    try:\n",
    "        while True:\n",
    "            record = pickle.load(file)\n",
    "            if record[2] > 75:\n",
    "                print(record)\n",
    "                count+=1\n",
    "    except EOFError:\n",
    "        pass\n",
    "    print('No of students having more than 75% are', count)\n",
    "    file.close()\n",
    "stud_data()\n",
    "count_rec()\n",
    "\n"
   ]
  },
  {
   "cell_type": "code",
   "execution_count": 10,
   "metadata": {},
   "outputs": [
    {
     "name": "stdout",
     "output_type": "stream",
     "text": [
      "Enter employee code: 100\n",
      "Enter employee Name: xavier\n",
      "Enter salary: 35000\n",
      "Add more record (y/n)? y\n",
      "Enter employee code: 101\n",
      "Enter employee Name: zack\n",
      "Enter salary: 50000\n",
      "Add more record (y/n)? y\n",
      "Enter employee code: 102\n",
      "Enter employee Name: hannah\n",
      "Enter salary: 25000\n",
      "Add more record (y/n)? n\n",
      "Employee details having salary more than 30000\n",
      "{'empcode': 100, 'name': 'xavier', 'salary': 35000}\n",
      "{'empcode': 101, 'name': 'zack', 'salary': 50000}\n"
     ]
    }
   ],
   "source": [
    "# Given a binary file employee.dat, created using dictionary object having keys: (empcode, name, and salary)\n",
    "\n",
    "# Write a python function that add one more record at the end of file.\n",
    "# Write a python function that display all employee records whose salary is more that 30000\n",
    "\n",
    "import pickle\n",
    "\n",
    "def add_record():\n",
    "    file = open(\"employee.dat\",\"ab\")\n",
    "    emp = {}\n",
    "    emp['empcode'] = int(input(\"Enter employee code: \"))\n",
    "    emp['name'] = input(\"Enter employee Name: \")\n",
    "    emp['salary'] = int(input(\"Enter salary: \"))\n",
    "    pickle.dump(emp, file)\n",
    "    file.close()\n",
    "    \n",
    "def search():\n",
    "    file = open(\"employee.dat\",\"rb\")\n",
    "    try:\n",
    "        while True:\n",
    "            emp = pickle.load(file)\n",
    "            if emp['salary']>30000:\n",
    "                print(emp)\n",
    "    except EOFError:\n",
    "        pass\n",
    "    file.close()\n",
    "\n",
    "#To test working of functions\n",
    "def testProgram():\n",
    "    while True:\n",
    "        add_record()\n",
    "        choice = input(\"Add more record (y/n)? \")\n",
    "        if choice in 'Nn':\n",
    "            break\n",
    "    print('Employee details having salary more than 30000')\n",
    "    search()\n",
    "\n",
    "testProgram()\n",
    "    \n",
    "\n"
   ]
  },
  {
   "cell_type": "code",
   "execution_count": 1,
   "metadata": {},
   "outputs": [
    {
     "name": "stdout",
     "output_type": "stream",
     "text": [
      "Enter student's roll number:1002\n",
      "Enter student's name:abc\n",
      "Enter student's class:5\n",
      "Enter student's fee:50000\n",
      "Add more record (y/n)? y\n",
      "Enter student's roll number:1005\n",
      "Enter student's name:ghj\n",
      "Enter student's class:6\n",
      "Enter student's fee:60000\n",
      "Add more record (y/n)? n\n",
      "Enter roll number to search: 1005\n",
      "The desired student is\n",
      "[1005, 'ghj', 6, 60000]\n"
     ]
    }
   ],
   "source": [
    "# Write a function to search and display details of student whose rollno is '1005' \n",
    "# from the binary file student.dat having structure [rollno, name, class and fees].\n",
    "\n",
    "# def createFile(roll,name,cls,fees,file):\n",
    "#     file.write(roll.encode())\n",
    "#     file.write(name.encode())\n",
    "#     file.write(cls.encode())\n",
    "#     file.write(fees.encode())\n",
    "    \n",
    "# f=open('student.DAT','w+b')\n",
    "# for i in ['roll\\t','name\\t','cls\\t' ,'fees\\t']:\n",
    "#     f.write(i.encode())\n",
    "\n",
    "# for i in range(2):\n",
    "#     roll=input('Enter the roll num ') + '\\t'\n",
    "#     name=input('Enter the name ') + '\\t'\n",
    "#     cls=input('Enter the class ') + '\\t'\n",
    "#     fees=input('Enter the fees ') + '\\n'\n",
    "#     createFile(roll,name,cls,fees,f)\n",
    "# f.seek(0)  \n",
    "# content=f.readlines()\n",
    "# # print(content)\n",
    "# roll_num= '1005'\n",
    "# for i in range(1,len(content)):\n",
    "#     if(content[i].decode().split('\\t')[0])== roll_num:\n",
    "#         print(content[i].decode().split('\\t'))\n",
    "# f.close()\n",
    "\n",
    "import pickle\n",
    "\n",
    "def stud_data():\n",
    "    file = open(\"students.dat\",\"ab\")\n",
    "    roll_number = int(input(\"Enter student's roll number:\"))\n",
    "    name = input(\"Enter student's name:\")\n",
    "    _class = int(input(\"Enter student's class:\"))\n",
    "    fee = int(input(\"Enter student's fee:\"))\n",
    "    record = [roll_number,name,_class,fee]\n",
    "    pickle.dump(record,file)\n",
    "    file.close()\n",
    "\n",
    "def search(roll_number):\n",
    "    file = open(\"students.dat\",\"rb\")\n",
    "    try:\n",
    "        while True:\n",
    "            record = pickle.load(file)\n",
    "            if record[0] == roll_number:\n",
    "                print(record)\n",
    "    except EOFError:\n",
    "        pass\n",
    "    file.close()\n",
    "\n",
    "    \n",
    "def runprog():\n",
    "    while True:\n",
    "        stud_data()\n",
    "        choice = input(\"Add more record (y/n)? \")\n",
    "        if choice in 'Nn':\n",
    "            break\n",
    "    roll_number = eval(input('Enter roll number to search: '))\n",
    "    print('The desired student is')\n",
    "    search(roll_number)\n",
    "\n",
    "runprog()\n",
    "    "
   ]
  },
  {
   "cell_type": "code",
   "execution_count": 14,
   "metadata": {},
   "outputs": [
    {
     "name": "stdout",
     "output_type": "stream",
     "text": [
      "Enter student's roll number:20\n",
      "Enter student's name:nmk\n",
      "Enter student's class:6\n",
      "Enter student's fee:36000\n",
      "Add more record (y/n)? y\n",
      "Enter student's roll number:52\n",
      "Enter student's name:fgh\n",
      "Enter student's class:9\n",
      "Enter student's fee:78000\n",
      "Add more record (y/n)? n\n",
      "Total Fees: \n",
      "50000\n",
      "120000\n",
      "140000\n",
      "176000\n",
      "254000\n"
     ]
    }
   ],
   "source": [
    "# A binary file school.dat has structure(rollno, name, class, fees)\n",
    "\n",
    "# Write a definition for function total_fees( ) that reads each object of file and calculate \n",
    "# the total fees of students and display the same.\n",
    "import pickle\n",
    "\n",
    "def school_data():\n",
    "    file = open(\"school.dat\",\"ab\")\n",
    "    roll_number = int(input(\"Enter student's roll number:\"))\n",
    "    name = input(\"Enter student's name:\")\n",
    "    _class = int(input(\"Enter student's class:\"))\n",
    "    fee = int(input(\"Enter student's fee:\"))\n",
    "    record = [roll_number,name,_class,fee]\n",
    "    pickle.dump(record,file)\n",
    "    file.close()\n",
    "\n",
    "def total_fees():\n",
    "    file = open(\"school.dat\",\"rb\")\n",
    "    try:\n",
    "        total = 0\n",
    "        while True:\n",
    "            record = pickle.load(file)\n",
    "            total += record[3]\n",
    "            print(total)\n",
    "    except EOFError:\n",
    "        pass\n",
    "    \n",
    "    file.close()\n",
    "    \n",
    "def runprog():\n",
    "    while True:\n",
    "        school_data()\n",
    "        choice = input(\"Add more record (y/n)? \")\n",
    "        if choice in 'Nn':\n",
    "            break\n",
    "    print('Total Fees: ')\n",
    "    total_fees()\n",
    "runprog()\n",
    "\n",
    "    \n"
   ]
  },
  {
   "cell_type": "code",
   "execution_count": 17,
   "metadata": {},
   "outputs": [
    {
     "name": "stdout",
     "output_type": "stream",
     "text": [
      "Enter player code: 17\n",
      "Enter player Name: AB\n",
      "Enter player country: South Africa\n",
      "Enter total runs of player: 96000\n",
      "Add more record (y/n)? n\n",
      "[17, 'AB', 'South Africa', 96000]\n",
      "the number of players whose name starts with A: None\n",
      "Enter country name to search: india\n",
      "No of players are 2\n"
     ]
    }
   ],
   "source": [
    "# A binary file players.dat, containing records of following list format: [code, name, country and total runs]\n",
    "\n",
    "# 1. Write a python function that display all records where player name starts from 'A'\n",
    "# 2. Write a python function that accept country as an argument and count and display \n",
    "#     the number of players of that country.\n",
    "# 3. Write a python function that add one record at the end of file.\n",
    "\n",
    "import pickle\n",
    "\n",
    "def createFile():\n",
    "    file = open(\"players.dat\",\"ab\")\n",
    "    Code = int(input(\"Enter player code: \"))\n",
    "    Name = input(\"Enter player Name: \")\n",
    "    Country =input(\"Enter player country: \")\n",
    "    Total_Runs = int(input(\"Enter total runs of player: \"))\n",
    "    record = [Code, Name, Country, Total_Runs]\n",
    "    pickle.dump(record, file)\n",
    "    file.close()\n",
    "\n",
    "def search():\n",
    "    file = open(\"players.dat\",\"rb\")\n",
    "    try:\n",
    "        while True:\n",
    "            record = pickle.load(file)\n",
    "            if record[1][0] == 'A':\n",
    "                print(record)\n",
    "    except EOFError:\n",
    "        pass\n",
    "    file.close()\n",
    "\n",
    "def countRec(Country):\n",
    "    file = open(\"players.dat\",\"rb\")\n",
    "    count = 0\n",
    "    try:\n",
    "        while True:\n",
    "            record = pickle.load(file)\n",
    "            if record[2]==Country:\n",
    "                count+=1\n",
    "    except EOFError:\n",
    "        pass\n",
    "    return count\n",
    "    file.close()\n",
    "\n",
    "def testProgram():\n",
    "    while True:\n",
    "        createFile()\n",
    "        choice = input(\"Add more record (y/n)? \")\n",
    "        if choice in 'Nn':\n",
    "            break\n",
    "    print(\"the number of players whose name starts with A:\",search())\n",
    "    Country = input('Enter country name to search: ')\n",
    "    n = countRec(Country)\n",
    "    print(\"No of players are\",n)\n",
    "\n",
    "testProgram()\n"
   ]
  },
  {
   "cell_type": "code",
   "execution_count": 31,
   "metadata": {
    "ExecuteTime": {
     "end_time": "2021-05-29T10:46:59.140338Z",
     "start_time": "2021-05-29T10:46:59.135100Z"
    }
   },
   "outputs": [],
   "source": [
    "# Given a binary file game.dat, containing records of following list format: [game_name, participants]\n",
    "\n",
    "# Write a function in Python that would read contents from the file game.dat and \n",
    "# creates a file named basket.dat copying only those records from game.dat where the game name is \"Basket Ball\"\n",
    "def countRec(country):\n",
    "    infile = open(\"game.dat\",\"rb\")\n",
    "    outfile = open(\"basket.dat\",\"wb\")\n",
    "\n",
    "    try:\n",
    "        while True:\n",
    "            record = pickle.load(infile)\n",
    "            if record[0] == \"Basket Ball\":\n",
    "                pickle.dump(record, outfile)\n",
    "    except EOFError:\n",
    "        pass\n",
    "    infile.close()\n",
    "    outfile.close()\n",
    "    \n",
    "countRec(\"india\")\n",
    "\n"
   ]
  },
  {
   "cell_type": "code",
   "execution_count": null,
   "metadata": {},
   "outputs": [],
   "source": []
  }
 ],
 "metadata": {
  "kernelspec": {
   "display_name": "Python 3",
   "language": "python",
   "name": "python3"
  },
  "language_info": {
   "codemirror_mode": {
    "name": "ipython",
    "version": 3
   },
   "file_extension": ".py",
   "mimetype": "text/x-python",
   "name": "python",
   "nbconvert_exporter": "python",
   "pygments_lexer": "ipython3",
   "version": "3.8.8"
  }
 },
 "nbformat": 4,
 "nbformat_minor": 2
}
