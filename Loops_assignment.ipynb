{
 "cells": [
  {
   "cell_type": "code",
   "execution_count": 3,
   "id": "e5f8a04e",
   "metadata": {},
   "outputs": [
    {
     "name": "stdout",
     "output_type": "stream",
     "text": [
      "Enter a number between 0 to 9 : 6\n",
      "six\n"
     ]
    }
   ],
   "source": [
    "# W. A P. which takes one number from 0 to 9 from the user and prints\n",
    "# it in the word. And if the word is not from 0 to 9 then\n",
    "# it should print that number is outside of the range and program should\n",
    "# exit.\n",
    "# For exapmple:-\n",
    "# input = 1\n",
    "# output = one\n",
    "\n",
    "n = int(input('Enter a number between 0 to 9 : '))\n",
    "\n",
    "d ={0:'zero',1:'one',2:'two',3:'three',4:'four',5:'five',6:'six',7:'seven',8:'eight',9:'nine'}\n",
    "\n",
    "if(n>0 and n<9):\n",
    "    print(d[n])\n",
    "else:\n",
    "    print('Number entered is out of range')"
   ]
  },
  {
   "cell_type": "code",
   "execution_count": 10,
   "id": "2b160b71",
   "metadata": {},
   "outputs": [
    {
     "name": "stdout",
     "output_type": "stream",
     "text": [
      "Enter 1st number4\n",
      "Enter 2nd number6\n",
      "Please select any one operation from below:-\n",
      "* To add enter 1\n",
      "* to subtract enter 2\n",
      "* To multiply enter 3\n",
      "* To divide enter 4\n",
      "* To divide and find quotient enter 5\n",
      "* To divide and find remainder enter 6\n",
      "* To divide and find num1 to the power of num2 enter 7\n",
      "* To Come out of the program enter 8 \n",
      "8\n"
     ]
    }
   ],
   "source": [
    "# W. A P. to implement calculator but the operation to be done and two\n",
    "# numbers will be taken as input from user:-\n",
    "# Operation console should show below:-\n",
    "# Please select any one operation from below:-\n",
    "# * To add enter 1\n",
    "# * to subtract enter 2\n",
    "# * To multiply enter 3\n",
    "# * To divide enter 4\n",
    "# * To divide and find quotient enter 5\n",
    "# * To divide and find remainder enter 6\n",
    "# * To divide and find num1 to the power of num2 enter 7\n",
    "# * To Come out of the program enter 8\n",
    "\n",
    "num1 =int(input('Enter 1st number'))\n",
    "num2 =int(input('Enter 2nd number'))\n",
    "op =int(input('''Please select any one operation from below:-\n",
    "* To add enter 1\n",
    "* to subtract enter 2\n",
    "* To multiply enter 3\n",
    "* To divide enter 4\n",
    "* To divide and find quotient enter 5\n",
    "* To divide and find remainder enter 6\n",
    "* To divide and find num1 to the power of num2 enter 7\n",
    "* To Come out of the program enter 8 \\n'''))\n",
    "\n",
    "if(op==1):\n",
    "    print(num1 + num2)\n",
    "elif(op==2):\n",
    "    print(num1 -num2)\n",
    "elif(op==3):\n",
    "    print(num1 *num2)\n",
    "elif(op==4):\n",
    "    if(num1>num2):\n",
    "        print(num1/num2)\n",
    "    else:\n",
    "        print(num2/num1)\n",
    "elif(op==5):\n",
    "    print(num1//num2)\n",
    "elif(op==6):\n",
    "    if(num1>num2):\n",
    "        print(num1%num2)\n",
    "    else:\n",
    "        print(num2%num1)\n",
    "elif(op==7):\n",
    "    print(num1**num2)\n",
    "else:\n",
    "    exit()\n",
    "\n"
   ]
  },
  {
   "cell_type": "code",
   "execution_count": 5,
   "id": "b86c0404",
   "metadata": {},
   "outputs": [
    {
     "name": "stdout",
     "output_type": "stream",
     "text": [
      "Enter year to be checked:2400\n",
      "The year is a leap year\n"
     ]
    }
   ],
   "source": [
    "# W A P to check whether a year entered by user is an leap year or not?\n",
    "# Check with below input:-\n",
    "#  leap year:- 2012, 1968, 2004, 1200, 1600,2400\n",
    "#  Non-lear year:- 1971, 2006, 1700,1800,1900\n",
    "\n",
    "year=int(input(\"Enter year to be checked:\"))\n",
    "\n",
    "if(year%4==0 and year%100!=0 or year%400==0):\n",
    "    print(\"The year is a leap year\")\n",
    "else:\n",
    "    print(\"The year is not a leap year\")\n",
    "    "
   ]
  },
  {
   "cell_type": "code",
   "execution_count": 6,
   "id": "191d4a9c",
   "metadata": {},
   "outputs": [
    {
     "name": "stdout",
     "output_type": "stream",
     "text": [
      "Enter a number45\n",
      "Number is odd\n"
     ]
    }
   ],
   "source": [
    "# W A P which takes one number from the user and checks whether it is\n",
    "# an even or odd number?, If it even then prints number is\n",
    "# even number else prints that number is odd number.\n",
    "\n",
    "number =int(input('Enter a number'))\n",
    "\n",
    "if(number%2==0):\n",
    "    print('Number is even')\n",
    "else:\n",
    "    print('Number is odd')"
   ]
  },
  {
   "cell_type": "code",
   "execution_count": 9,
   "id": "9039a561",
   "metadata": {},
   "outputs": [
    {
     "name": "stdout",
     "output_type": "stream",
     "text": [
      "Enter 1st number50\n",
      "Enter 2nd number50\n",
      "num1 is equal to num2\n",
      "num1 is equal to num2\n"
     ]
    }
   ],
   "source": [
    "# W A P which takes two numbers from the user and prints below output:-\n",
    "#  1. num1 is greater than num2 if num1 is greater than num2\n",
    "#  2. num1 is smaller than num2 if num1 is smaller than num2\n",
    "#  3. num1 is equal to num2 if num1 and num2 are equal\n",
    "# Note:- 1. Do this problem using if - else\n",
    "#  2. Do this using ternary operator\n",
    "\n",
    "n1= int(input('Enter 1st number'))\n",
    "n2= int(input('Enter 2nd number'))\n",
    "\n",
    "if(n1>n2):\n",
    "    print('num1 is greater than num2')\n",
    "elif(n1<n2):\n",
    "    print('num1 is smaller than num2')\n",
    "else:\n",
    "    print('num1 is equal to num2')\n",
    "    \n",
    "    \n",
    "#Using ternary operator\n",
    "\n",
    "print (\"num1 is equal to num2\" if n1 == n2 else \"num1 is greater than num2\"\n",
    "        if n1 > n2 else \"num1 is smaller than num2\")"
   ]
  },
  {
   "cell_type": "code",
   "execution_count": 14,
   "id": "d6589692",
   "metadata": {},
   "outputs": [
    {
     "name": "stdout",
     "output_type": "stream",
     "text": [
      "Enter 1st number23\n",
      "Enter 2nd number23\n",
      "Enter 3rd number45\n",
      "num3 is greater than num1 and num3\n"
     ]
    }
   ],
   "source": [
    "#  W A P which takes three numbers from the user and prints below\n",
    "# output:-\n",
    "#  1. num1 is greater than num2 and num3 if num1 is greater than num2\n",
    "# and num3\n",
    "#  2. num2 is greater than num1 and num3 if num2 is greater than num1\n",
    "# and num3\n",
    "#  3. num3 is greater than num1 and num2 if num3 is greater than num1\n",
    "# and num2\n",
    "# Note:- 1. Do this problem using if - elif - else\n",
    "#  2. Do this using ternary operator\n",
    "\n",
    "num1 =int(input('Enter 1st number'))\n",
    "num2 =int(input('Enter 2nd number'))\n",
    "num3 =int(input('Enter 3rd number'))\n",
    "\n",
    "if(num1>num2 and num1>num3):\n",
    "    print(\"num1 is greater than num2 and num3\")\n",
    "elif(num2 > num1 and num2 > num3):\n",
    "    print(\"num2 is greater than num1 and num3\")\n",
    "# elif(num3>num1 and num3>num2):\n",
    "else:\n",
    "    print(\"num3 is greater than num1 and num3\")"
   ]
  },
  {
   "cell_type": "code",
   "execution_count": 16,
   "id": "2a098029",
   "metadata": {},
   "outputs": [
    {
     "name": "stdout",
     "output_type": "stream",
     "text": [
      "Length of the string is:  55\n"
     ]
    }
   ],
   "source": [
    "# Write a Python program to find the length of the my_str using loop:-\n",
    "# Input:- 'Write a Python program to find the length of the my_str'\n",
    "# Output:- 55\n",
    "\n",
    "my_str ='Write a Python program to find the length of the my_str'\n",
    "count=0\n",
    "\n",
    "for i in my_str:\n",
    "    count+=1\n",
    "print(\"Length of the string is: \",count)\n"
   ]
  },
  {
   "cell_type": "code",
   "execution_count": 18,
   "id": "4881d97d",
   "metadata": {},
   "outputs": [
    {
     "name": "stdout",
     "output_type": "stream",
     "text": [
      "9\n"
     ]
    }
   ],
   "source": [
    "# Q. Write a Python program to find the total number of times letter 'p'\n",
    "# is appeared in the below string using loop:-\n",
    "# Input:- 'peter piper picked a peck of pickled peppers.\\n'\n",
    "# Output:- 9\n",
    "\n",
    "ip='peter piper picked a peck of pickled peppers.\\n'\n",
    "\n",
    "found=0\n",
    "for i in ip:\n",
    "    if i.lower()=='p':\n",
    "        found+=1\n",
    "    else:\n",
    "        pass\n",
    "print(found)"
   ]
  },
  {
   "cell_type": "code",
   "execution_count": 21,
   "id": "5bd96e4e",
   "metadata": {},
   "outputs": [
    {
     "name": "stdout",
     "output_type": "stream",
     "text": [
      "0\n",
      "6\n",
      "8\n",
      "12\n",
      "21\n",
      "29\n",
      "37\n",
      "39\n",
      "40\n"
     ]
    }
   ],
   "source": [
    "# Q. Write a Python Program, to print all the indexes of all occurences of\n",
    "# letter 'p' appeared in the string using loop:-\n",
    "# Input:- 'peter piper picked a peck of pickled peppers.'\n",
    "# Output:-\n",
    "# 0\n",
    "# 6\n",
    "# 8\n",
    "# 12\n",
    "# 21\n",
    "# 29\n",
    "# 37\n",
    "# 39\n",
    "# 40\n",
    "\n",
    "s =\"peter piper picked a peck of pickled peppers.\"\n",
    "\n",
    "for i in range(len(s)):\n",
    "    if(s[i] == 'p'):\n",
    "        print(i)\n",
    "\n",
    "\n"
   ]
  },
  {
   "cell_type": "code",
   "execution_count": 35,
   "id": "1286611d",
   "metadata": {},
   "outputs": [
    {
     "name": "stdout",
     "output_type": "stream",
     "text": [
      "['peter piper picked a peck of pickled peppers.']\n"
     ]
    }
   ],
   "source": [
    "# Write a python program to find below output using loop:-\n",
    "# Input:- 'peter piper picked a peck of pickled peppers.'\n",
    "# Output:- ['peter', 'piper', 'picked', 'a', 'peck', 'of', 'pickled',\n",
    "# 'peppers']\n",
    "\n",
    "inp='peter piper picked a peck of pickled peppers.'\n",
    "l=[]\n",
    "new=''\n",
    "for i in range(len(inp)):\n",
    "    if(len(inp[i]) != ' '):\n",
    "        new+= s[i]\n",
    "    else:\n",
    "        l.append(new)\n",
    "l.append(new)\n",
    "print(l)"
   ]
  },
  {
   "cell_type": "code",
   "execution_count": 41,
   "id": "8cb9dde2",
   "metadata": {},
   "outputs": [
    {
     "name": "stdout",
     "output_type": "stream",
     "text": [
      "peppers. pickled of peck a picked piper peter \n"
     ]
    }
   ],
   "source": [
    "# Q. Write a python program to find below output using loop:-\n",
    "# Input:- 'peter piper picked a peck of pickled peppers.'\n",
    "# Output:- 'peppers pickled of peck a picked piper peter'\n",
    "\n",
    "inp = 'peter piper picked a peck of pickled peppers.'\n",
    "l=[]\n",
    "new = ''\n",
    "for i in range(len(inp)):\n",
    "    if inp[i] != ' ':\n",
    "        new += inp[i]\n",
    "    else:\n",
    "        l.append(new)\n",
    "        new = ''\n",
    "l.append(new)\n",
    "\n",
    "new_str = ''\n",
    "\n",
    "for i in range(-1,-len(l)-1,-1):\n",
    "    new_str += l[i] + ' '\n",
    "\n",
    "print(new_str)\n",
    "\n"
   ]
  },
  {
   "cell_type": "code",
   "execution_count": 48,
   "id": "a580c40f",
   "metadata": {},
   "outputs": [
    {
     "name": "stdout",
     "output_type": "stream",
     "text": [
      ".sreppep delkcip fo kcep a dekcip repip rete\n"
     ]
    }
   ],
   "source": [
    "# Q. Write a python program to find below output using loop:-\n",
    "# Input:- 'peter piper picked a peck of pickled peppers.'\n",
    "# Output:- '.sreppep delkcip fo kcep a dekcip repip retep'\n",
    "\n",
    "inp = 'peter piper picked a peck of pickled peppers.'\n",
    "rev=''\n",
    "for i in range(len(inp)-1,0,-1):\n",
    "    rev+=inp[i]\n",
    "print(rev)"
   ]
  },
  {
   "cell_type": "code",
   "execution_count": 57,
   "id": "5b17109b",
   "metadata": {},
   "outputs": [
    {
     "name": "stdout",
     "output_type": "stream",
     "text": [
      "Peter Piper Picked A Peck Of Pickled Peppers. \n"
     ]
    }
   ],
   "source": [
    "# Q. Write a python program to find below output using loop:-\n",
    "# Input:- 'peter piper picked a peck of pickled peppers.'\n",
    "# Output:- 'Peter Piper Picked A Peck Of Pickled Peppers'\n",
    "\n",
    "inp = 'peter piper picked a peck of pickled peppers.'\n",
    "new=''\n",
    "l= inp.split()\n",
    "for i in l:\n",
    "    new+= i[0].upper() + i[1:] + ' '\n",
    "print(new)\n"
   ]
  },
  {
   "cell_type": "code",
   "execution_count": 58,
   "id": "764ab153",
   "metadata": {},
   "outputs": [
    {
     "name": "stdout",
     "output_type": "stream",
     "text": [
      "peter piper picked a peck of pickled peppers. \n"
     ]
    }
   ],
   "source": [
    "# Q. Write a python program to find below output using loop:-\n",
    "# Input:- 'Peter Piper Picked A Peck Of Pickled Peppers.'\n",
    "# Output:- 'Peter piper picked a peck of pickled peppers'\n",
    "\n",
    "inp='Peter Piper Picked A Peck Of Pickled Peppers.'\n",
    "new=''\n",
    "l= inp.split()\n",
    "for i in l:\n",
    "    new+= i[0].lower() + i[1:] + ' '\n",
    "print(new)"
   ]
  },
  {
   "cell_type": "code",
   "execution_count": 4,
   "id": "0d8047af",
   "metadata": {},
   "outputs": [
    {
     "name": "stdout",
     "output_type": "stream",
     "text": [
      "29\n"
     ]
    }
   ],
   "source": [
    "# Write a python program to implement index method using loop. If\n",
    "# sub_str is found in my_str then it will print the index\n",
    "# of first occurrence of first character of matching string in my_str:-\n",
    "# Input:- my_str = 'Peter Piper Picked A Peck Of Pickled Peppers.',\n",
    "# sub_str = 'Pickl'\n",
    "# Output:- 29\n",
    "\n",
    "inp='Peter Piper Picked A Peck Of Pickled Peppers.'\n",
    "substr='Pickl'\n",
    "\n",
    "for i in range(len(inp)):\n",
    "    if(inp[i:i+len(substr)]==substr):\n",
    "        index=i\n",
    "        print(i)\n",
    "        "
   ]
  },
  {
   "cell_type": "code",
   "execution_count": 1,
   "id": "cefa5360",
   "metadata": {},
   "outputs": [
    {
     "name": "stdout",
     "output_type": "stream",
     "text": [
      "Peter Piper Picked A Pack Of Pickled Peppers.\n"
     ]
    }
   ],
   "source": [
    "# Write a python program to implement replace method using loop. If\n",
    "# sub_str is found in my_str then it will replace the first\n",
    "# occurrence of sub_str with new_str else it will will print sub_str not\n",
    "# found:-\n",
    "my_str = 'Peter Piper Picked A Peck Of Pickled Peppers.'\n",
    "sub_str = 'Peck'\n",
    "new_str = 'Pack'\n",
    "index =-1\n",
    "\n",
    "for i in range(len(my_str)):\n",
    "    if my_str[i:i+len(sub_str)] == sub_str:\n",
    "        index = i\n",
    "    \n",
    "if index > -1:\n",
    "    out_str = my_str[0:index] + new_str + my_str[index+len(sub_str)::]\n",
    "    print(out_str)\n",
    "else:\n",
    "    print('substring not found')"
   ]
  },
  {
   "cell_type": "code",
   "execution_count": 28,
   "id": "96dab486",
   "metadata": {},
   "outputs": [
    {
     "name": "stdout",
     "output_type": "stream",
     "text": [
      "Peck*****************\n"
     ]
    }
   ],
   "source": [
    "# Write a python program to find below output (implements rjust and\n",
    "# ljust) using loop:-\n",
    "# Input:- 'Peter Piper Picked A Peck Of Pickled Peppers.', sub_str =\n",
    "# 'Peck',\n",
    "# Output:- '*********************Peck********************'\n",
    "\n",
    "my_str = 'Peter Piper Picked A Peck Of Pickled Peppers.'\n",
    "sub_str = 'Peck'\n",
    "new_str=''\n",
    "index =0\n",
    "\n",
    "found=my_str.index('Peck')\n",
    " \n",
    "\n",
    "x=my_str[found+len(sub_str)::]\n",
    "# print(x)\n",
    "\n",
    "left =sub_str.ljust(found,\"*\")\n",
    "\n",
    "print(left)\n",
    "\n",
    "\n",
    "       \n"
   ]
  },
  {
   "cell_type": "code",
   "execution_count": null,
   "id": "fe99b9a6",
   "metadata": {},
   "outputs": [],
   "source": []
  }
 ],
 "metadata": {
  "kernelspec": {
   "display_name": "Python 3",
   "language": "python",
   "name": "python3"
  },
  "language_info": {
   "codemirror_mode": {
    "name": "ipython",
    "version": 3
   },
   "file_extension": ".py",
   "mimetype": "text/x-python",
   "name": "python",
   "nbconvert_exporter": "python",
   "pygments_lexer": "ipython3",
   "version": "3.8.8"
  }
 },
 "nbformat": 4,
 "nbformat_minor": 5
}
